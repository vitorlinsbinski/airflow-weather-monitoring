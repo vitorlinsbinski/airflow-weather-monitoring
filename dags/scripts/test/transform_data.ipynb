{
 "cells": [
  {
   "cell_type": "code",
   "execution_count": null,
   "id": "65dd3f5c",
   "metadata": {},
   "outputs": [],
   "source": [
    "import pandas as pd\n",
    "import json\n",
    "import numpy as np"
   ]
  },
  {
   "cell_type": "code",
   "execution_count": null,
   "id": "7dcadff8",
   "metadata": {},
   "outputs": [],
   "source": [
    "import os\n",
    "\n",
    "os.getcwd()"
   ]
  },
  {
   "cell_type": "code",
   "execution_count": null,
   "id": "ca9499bb",
   "metadata": {},
   "outputs": [],
   "source": [
    "with open('../../../data/raw/20250509_104128/weather_20250509_104128.json', 'r') as file:\n",
    "    data = json.load(file)\n",
    "\n",
    "weather_df = pd.json_normalize(\n",
    "    data,\n",
    "    record_path=['weather'],\n",
    "    meta=[\n",
    "        'base', 'visibility', 'dt', 'timezone', 'name', 'cod',\n",
    "        ['coord', 'lon'], ['coord', 'lat'],\n",
    "        ['main', 'temp'], ['main', 'feels_like'], ['main', 'temp_min'], ['main', 'temp_max'],\n",
    "        ['main', 'pressure'], ['main', 'humidity'], ['main', 'sea_level'],\n",
    "        ['wind', 'speed'],\n",
    "        ['clouds', 'all'],\n",
    "        ['sys', 'sunrise'], ['sys', 'sunset']\n",
    "    ],\n",
    "    sep='_'\n",
    ")\n",
    "\n",
    "weather_df.head()"
   ]
  },
  {
   "cell_type": "code",
   "execution_count": null,
   "id": "4d1415d5",
   "metadata": {},
   "outputs": [],
   "source": [
    "weather_df.drop(columns=['id', 'main', 'base', 'visibility'], inplace=True)\n",
    "weather_df.head()"
   ]
  },
  {
   "cell_type": "code",
   "execution_count": null,
   "id": "0c8f7dae",
   "metadata": {},
   "outputs": [],
   "source": [
    "weather_df.info()"
   ]
  },
  {
   "cell_type": "code",
   "execution_count": null,
   "id": "db518a21",
   "metadata": {},
   "outputs": [],
   "source": [
    "weather_df['timezone'] = weather_df['timezone'].astype(int)\n",
    "weather_df['cod'] = weather_df['cod'].astype(int)\n",
    "weather_df['coord_lon'] = weather_df['coord_lon'].astype(np.float64)\n",
    "weather_df['coord_lat'] = weather_df['coord_lat'].astype(np.float64)\n",
    "weather_df['main_temp'] = weather_df['main_temp'].astype(np.float64)\n",
    "weather_df['main_temp_min'] = weather_df['main_temp_min'].astype(np.float64)\n",
    "weather_df['main_temp_max'] = weather_df['main_temp_max'].astype(np.float64)\n",
    "weather_df['main_pressure'] = weather_df['main_pressure'].astype(int)\n",
    "weather_df['main_humidity'] = weather_df['main_humidity'].astype(int)\n",
    "weather_df['main_sea_level'] = weather_df['main_sea_level'].astype(int)\n",
    "weather_df['wind_speed'] = weather_df['wind_speed'].astype(np.float32)\n",
    "weather_df['clouds_all'] = weather_df['clouds_all'].astype(int)\n",
    "weather_df['sys_sunrise'] = weather_df['sys_sunrise'].astype(int)\n",
    "weather_df['sys_sunset'] = weather_df['sys_sunset'].astype(int)"
   ]
  },
  {
   "cell_type": "code",
   "execution_count": null,
   "id": "6ee179b3",
   "metadata": {},
   "outputs": [],
   "source": [
    "weather_df.info()"
   ]
  },
  {
   "cell_type": "code",
   "execution_count": null,
   "id": "c9afaaa3",
   "metadata": {},
   "outputs": [],
   "source": [
    "weather_df.head()"
   ]
  },
  {
   "cell_type": "code",
   "execution_count": null,
   "id": "18a9b635",
   "metadata": {},
   "outputs": [],
   "source": [
    "weather_df['datetime_utc'] = pd.to_datetime(weather_df['dt'], unit='s', utc=True)\n",
    "weather_df['datetime_local'] = weather_df['datetime_utc'] + pd.to_timedelta(weather_df['timezone'], unit='s')\n",
    "weather_df['datetime_local'] = weather_df['datetime_local'].dt.tz_localize(None)\n",
    "weather_df['datetime_local']"
   ]
  },
  {
   "cell_type": "code",
   "execution_count": null,
   "id": "6030a7d2",
   "metadata": {},
   "outputs": [],
   "source": [
    "weather_df.head()"
   ]
  },
  {
   "cell_type": "code",
   "execution_count": null,
   "id": "f8a62a71",
   "metadata": {},
   "outputs": [],
   "source": [
    "weather_df['sys_sunrise'] = pd.to_datetime(weather_df['sys_sunrise'], unit='s')\n",
    "weather_df['sys_sunrise'] = weather_df['sys_sunrise'] + pd.to_timedelta(weather_df['timezone'], unit='s')\n",
    "weather_df['sys_sunrise'] = weather_df['sys_sunrise'].dt.strftime('%H:%M:%S')\n",
    "\n",
    "weather_df['sys_sunset'] = pd.to_datetime(weather_df['sys_sunset'], unit='s')\n",
    "weather_df['sys_sunset'] = weather_df['sys_sunset'] + pd.to_timedelta(weather_df['timezone'], unit='s')\n",
    "weather_df['sys_sunset'] = weather_df['sys_sunset'].dt.strftime('%H:%M:%S')"
   ]
  },
  {
   "cell_type": "code",
   "execution_count": null,
   "id": "302486b9",
   "metadata": {},
   "outputs": [],
   "source": [
    "weather_df.drop(columns=['dt', 'timezone', 'datetime_utc'], inplace=True)\n",
    "weather_df.head()"
   ]
  },
  {
   "cell_type": "code",
   "execution_count": null,
   "id": "6b2d01b9",
   "metadata": {},
   "outputs": [],
   "source": [
    "weather_df['description'] = weather_df['description'].str.capitalize()\n",
    "\n",
    "weather_df.head()"
   ]
  }
 ],
 "metadata": {
  "kernelspec": {
   "display_name": ".venv",
   "language": "python",
   "name": "python3"
  },
  "language_info": {
   "codemirror_mode": {
    "name": "ipython",
    "version": 3
   },
   "file_extension": ".py",
   "mimetype": "text/x-python",
   "name": "python",
   "nbconvert_exporter": "python",
   "pygments_lexer": "ipython3",
   "version": "3.12.3"
  }
 },
 "nbformat": 4,
 "nbformat_minor": 5
}
